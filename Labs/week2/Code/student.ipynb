{
 "cells": [
  {
   "cell_type": "markdown",
   "metadata": {},
   "source": [
    "# Artificial Intelligence\n",
    "**Tutorial week 2 - Search**\n",
    "COMP9414"
   ]
  },
  {
   "cell_type": "code",
   "execution_count": 1,
   "metadata": {},
   "outputs": [
    {
     "name": "stdout",
     "output_type": "stream",
     "text": [
      "Requirement already satisfied: pandas in c:\\users\\13512\\appdata\\local\\programs\\python\\python313\\lib\\site-packages (2.3.0)\n",
      "Requirement already satisfied: numpy>=1.26.0 in c:\\users\\13512\\appdata\\local\\programs\\python\\python313\\lib\\site-packages (from pandas) (2.2.6)\n",
      "Requirement already satisfied: python-dateutil>=2.8.2 in c:\\users\\13512\\appdata\\roaming\\python\\python313\\site-packages (from pandas) (2.9.0.post0)\n",
      "Requirement already satisfied: pytz>=2020.1 in c:\\users\\13512\\appdata\\local\\programs\\python\\python313\\lib\\site-packages (from pandas) (2025.2)\n",
      "Requirement already satisfied: tzdata>=2022.7 in c:\\users\\13512\\appdata\\local\\programs\\python\\python313\\lib\\site-packages (from pandas) (2025.2)\n",
      "Requirement already satisfied: six>=1.5 in c:\\users\\13512\\appdata\\roaming\\python\\python313\\site-packages (from python-dateutil>=2.8.2->pandas) (1.17.0)\n"
     ]
    }
   ],
   "source": [
    "!pip install pandas"
   ]
  },
  {
   "cell_type": "markdown",
   "metadata": {},
   "source": [
    "## Introduction\n",
    "In this tutorial, we will explore five different search algorithms: Depth-First Search (DFS), Breadth-First Search (BFS), Uniform Cost Search (UCS), Best-First Search, and A*. We will use NetworkX, a powerful Python library for creating, manipulating, and analysing complex graphs to construct the graph and evaluate the performance of each algorithm. Additionally, we will visualise the step-by-step iterations of these algorithms to provide a deeper understanding of their inner workings.\n",
    "\n",
    "NetworkX is a versatile tool that allows us to easily create various types of graphs, perform complex operations on them, and visualize the results. It supports many graph theory-related algorithms, making it an ideal choice for this tutorial. Throughout this guide, NetworkX will help us to define graphs, implement search algorithms, and collect performance metrics efficiently.\n",
    "\n",
    "To get started with NetworkX, ensure it is installed in your Python environment. You can install it via pip if you haven't already:"
   ]
  },
  {
   "cell_type": "code",
   "execution_count": 2,
   "metadata": {},
   "outputs": [
    {
     "name": "stdout",
     "output_type": "stream",
     "text": [
      "Requirement already satisfied: networkx in c:\\users\\13512\\appdata\\local\\programs\\python\\python313\\lib\\site-packages (3.5)\n"
     ]
    }
   ],
   "source": [
    "!pip install networkx"
   ]
  },
  {
   "cell_type": "markdown",
   "metadata": {},
   "source": [
    "## Search Algorithms\n",
    "\n",
    "### Depth-First Search (DFS)\n",
    "\n",
    "Depth-First Search (DFS) is an algorithm used for traversing or searching tree or graph data structures. The algorithm starts at the root node and explores as far as possible along each branch before backtracking. DFS uses a stack to keep track of the nodes to be visited next.\n",
    "\n",
    "**Algorithm:**\n",
    "1. Initialize a stack with the starting node and an empty path.\n",
    "2. While the stack is not empty:\n",
    "   - Pop a node and its path from the stack.\n",
    "   - If the node has been visited, skip it.\n",
    "   - Mark the node as visited.\n",
    "   - Append the current node to the path.\n",
    "   - If the goal is reached, return the path.\n",
    "   - Add all unvisited neighbours to the stack."
   ]
  },
  {
   "cell_type": "markdown",
   "metadata": {},
   "source": [
    "### Breadth-First Search (BFS)\n",
    "\n",
    "Breadth-First Search (BFS) is an algorithm for traversing or searching tree or graph data structures. It starts at the tree root (or some arbitrary node of a graph) and explores the neighbour nodes at the present depth prior to moving on to nodes at the next depth level. BFS uses a queue to keep track of the nodes to be visited next.\n",
    "\n",
    "**Algorithm:**\n",
    "1. Initialize a queue with the starting node and an empty path.\n",
    "2. While the queue is not empty:\n",
    "   - Dequeue a node and its path.\n",
    "   - If the node has been visited, skip it.\n",
    "   - Mark the node as visited.\n",
    "   - Append the current node to the path.\n",
    "   - If the goal is reached, return the path.\n",
    "   - Add all unvisited neighbours to the queue."
   ]
  },
  {
   "cell_type": "markdown",
   "metadata": {},
   "source": [
    "### Uniform Cost Search (UCS)\n",
    "\n",
    "Uniform Cost Search (UCS) is an algorithm used for finding the shortest path in a weighted graph where the cost of edges can vary. It expands the least cost node first, ensuring that the shortest path is found. UCS uses a priority queue to keep track of the nodes to be visited next, with priority given to nodes with the lowest cumulative cost.\n",
    "\n",
    "**Algorithm:**\n",
    "1. Initialize a priority queue with the starting node, cost 0, and an empty path.\n",
    "2. While the queue is not empty:\n",
    "   - Dequeue the node with the lowest cost.\n",
    "   - If the node has been visited, skip it.\n",
    "   - Mark the node as visited.\n",
    "   - Append the current node to the path.\n",
    "   - If the goal is reached, return the path and cost.\n",
    "   - Add all unvisited neighbours to the priority queue with their cumulative cost."
   ]
  },
  {
   "cell_type": "markdown",
   "metadata": {},
   "source": [
    "### Best-First Search\n",
    "\n",
    "Best-First Search is an algorithm that uses heuristics to guide the search process. It selects the node that appears to be closest to the goal according to the heuristic function. Best-First Search uses a priority queue to keep track of the nodes to be visited next, with priority given to nodes with the lowest heuristic value.\n",
    "\n",
    "**Algorithm:**\n",
    "1. Initialize a priority queue with the starting node, its heuristic value, and an empty path.\n",
    "2. While the queue is not empty:\n",
    "   - Dequeue the node with the lowest heuristic value.\n",
    "   - If the node has been visited, skip it.\n",
    "   - Mark the node as visited.\n",
    "   - Append the current node to the path.\n",
    "   - If the goal is reached, return the path.\n",
    "   - Add all unvisited neighbours to the priority queue with their heuristic value."
   ]
  },
  {
   "cell_type": "markdown",
   "metadata": {},
   "source": [
    "### A* Search\n",
    "\n",
    "A* Search is a widely used algorithm that combines the strengths of Uniform Cost Search and Best-First Search. It uses both the actual cost from the start and the heuristic cost to the goal to guide the search. A* uses a priority queue to keep track of the nodes to be visited next, with priority given to nodes with the lowest combined cost.\n",
    "\n",
    "**Algorithm:**\n",
    "1. Initialize a priority queue with the starting node, cost 0, its heuristic value, and an empty path.\n",
    "2. While the queue is not empty:\n",
    "   - Dequeue the node with the lowest cost + heuristic value.\n",
    "   - If the node has been visited, skip it.\n",
    "   - Mark the node as visited.\n",
    "   - Append the current node to the path.\n",
    "   - If the goal is reached, return the path and cost.\n",
    "   - Add all unvisited neighbours to the priority queue with their cumulative cost + heuristic value."
   ]
  },
  {
   "cell_type": "markdown",
   "metadata": {},
   "source": [
    "## Experiments\n",
    "\n",
    "### Step 1: Graph Definition\n",
    "\n",
    "First, we will define an undirected graph with weighted edges using NetworkX. This graph will be used for all the algorithms to ensure a fair comparison."
   ]
  },
  {
   "cell_type": "code",
   "execution_count": 3,
   "metadata": {},
   "outputs": [],
   "source": [
    "# 3.1\n",
    "import sys\n",
    "import networkx as nx\n",
    "from PyQt5.QtWidgets import QApplication\n",
    "from visualiser import Visualiser\n",
    "import heapq\n",
    "import time\n",
    "import pandas as pd\n",
    "\n",
    "G = nx.Graph()\n",
    "edges = [\n",
    "    (\"A\", \"B\", 1),\n",
    "    (\"A\", \"C\", 10),\n",
    "    (\"B\", \"D\", 2),\n",
    "    (\"C\", \"D\", 1),\n",
    "    (\"B\", \"E\", 5),\n",
    "    (\"C\", \"F\", 2),\n",
    "    (\"D\", \"E\", 3),\n",
    "    (\"D\", \"F\", 8),\n",
    "    (\"E\", \"G\", 1),\n",
    "    (\"F\", \"G\", 1),\n",
    "    (\"F\", \"H\", 2),\n",
    "    (\"G\", \"H\", 1),\n",
    "]\n",
    "for from_node, to_node, weight in edges:\n",
    "    G.add_edge(from_node, to_node, weight=weight)\n",
    "\n",
    "heuristic = {\n",
    "    \"A\": 10,\n",
    "    \"B\": 8,\n",
    "    \"C\": 5,\n",
    "    \"D\": 7,\n",
    "    \"E\": 3,\n",
    "    \"F\": 6,\n",
    "    \"G\": 1,\n",
    "    \"H\": 0,\n",
    "}"
   ]
  },
  {
   "cell_type": "markdown",
   "metadata": {},
   "source": [
    "![My figure](https://unsw-my.sharepoint.com/:i:/g/personal/z5272300_ad_unsw_edu_au1/ERTkYHVSTEREr2pHt-KI_2sBPIF70uX1boMWqdOi4m2Vag?download=1)"
   ]
  },
  {
   "cell_type": "markdown",
   "metadata": {},
   "source": [
    "### Step 2: Algorithm Implementations\n",
    "\n",
    "In this tutorial, each algorithm is provided with a skeleton code that you must complete by filling in the TODO parts. The algorithms are implemented to work with NetworkX graphs. Some of these algorithms rely on priority queues to efficiently manage the order in which nodes are explored. To implement priority queues in Python, we will use the `heapq` module, which provides an easy-to-use and efficient way to maintain a priority queue using a binary heap."
   ]
  },
  {
   "cell_type": "markdown",
   "metadata": {},
   "source": [
    "### Step 3: Visualisation\n",
    "\n",
    "We will visualise each algorithm's step-by-step iterations to enhance understanding using a graphical user interface. For this purpose, we will utilise PyQt5, a library that allows us to create cross-platform GUI applications in Python. The visualisation will help illustrate how the algorithms explore the graph, make decisions at each step, and ultimately find the path to the goal.\n",
    "\n",
    "Ensure PyQt5 is installed in your Python environment:"
   ]
  },
  {
   "cell_type": "code",
   "execution_count": 4,
   "metadata": {},
   "outputs": [
    {
     "name": "stdout",
     "output_type": "stream",
     "text": [
      "Requirement already satisfied: PyQt5 in c:\\users\\13512\\appdata\\local\\programs\\python\\python313\\lib\\site-packages (5.15.11)\n",
      "Requirement already satisfied: PyQt5-sip<13,>=12.15 in c:\\users\\13512\\appdata\\local\\programs\\python\\python313\\lib\\site-packages (from PyQt5) (12.17.0)\n",
      "Requirement already satisfied: PyQt5-Qt5<5.16.0,>=5.15.2 in c:\\users\\13512\\appdata\\local\\programs\\python\\python313\\lib\\site-packages (from PyQt5) (5.15.2)\n"
     ]
    }
   ],
   "source": [
    "!pip install PyQt5"
   ]
  },
  {
   "cell_type": "markdown",
   "metadata": {},
   "source": [
    "### Step 4: Running the Algorithms and Collecting Metrics\n",
    "\n",
    "To evaluate the performance of each search algorithm, we will use a helper function, `run_algorithm`, which automates the process of running the algorithms on the graph and collecting key metrics. This function takes care of executing the search algorithms, timing their execution, and calculating various performance metrics, including the path found, cost, node expansions, time complexity, and space complexity."
   ]
  },
  {
   "cell_type": "code",
   "execution_count": 5,
   "metadata": {},
   "outputs": [],
   "source": [
    "def run_algorithm(algorithm, graph, start, goal, heuristic=None):\n",
    "    start_time = time.perf_counter()  # Record the start time\n",
    "    # Run the algorithm, with or without heuristic as needed\n",
    "    if algorithm in [DFS, BFS, UCS]:\n",
    "        path, cost, node_expansions = algorithm(graph, start, goal)\n",
    "    else:\n",
    "        path, cost, node_expansions = algorithm(graph, start, goal, heuristic)\n",
    "    end_time = time.perf_counter()  # Record the end time\n",
    "\n",
    "    # Calculate performance metrics\n",
    "    time_complexity = end_time - start_time\n",
    "    space_complexity = len(path)\n",
    "\n",
    "    # Return a dictionary with the collected metrics\n",
    "    return {\n",
    "        \"path\": path,\n",
    "        \"cost\": cost,\n",
    "        \"node_expansions\": node_expansions,\n",
    "        \"time_complexity\": time_complexity,\n",
    "        \"space_complexity\": space_complexity,\n",
    "    }"
   ]
  },
  {
   "cell_type": "markdown",
   "metadata": {},
   "source": [
    "Before we begin implementing the algorithms, it's crucial to first understand the key idea behind each one. The code below sets up a visualizer using PyQt5 to illustrate the behavior of each algorithm on the graph. This step-by-step visual explanation will help us grasp how each algorithm explores the graph, selects nodes, and constructs paths from the start node \"A\" to the goal node \"H\". This foundational understanding will ensure that we're well-prepared to implement each algorithm effectively."
   ]
  },
  {
   "cell_type": "code",
   "execution_count": 6,
   "metadata": {},
   "outputs": [
    {
     "data": {
      "text/plain": [
       "0"
      ]
     },
     "execution_count": 6,
     "metadata": {},
     "output_type": "execute_result"
    },
    {
     "data": {
      "image/png": "[encoded data removed]",
      "text/plain": [
       "<Figure size 640x475 with 1 Axes>"
      ]
     },
     "metadata": {},
     "output_type": "display_data"
    }
   ],
   "source": [
    "app = QApplication(sys.argv)\n",
    "fixed_start = \"A\"\n",
    "fixed_end = \"H\"\n",
    "start = fixed_start\n",
    "goal = fixed_end\n",
    "\n",
    "viz = Visualiser(G, edges, heuristic, fixed_start, fixed_end)\n",
    "viz.show()\n",
    "# For .py please use the below line to exit the app\n",
    "# sys.exit(app.exec_())\n",
    "# For .ipynb please use the below line to exit the app\n",
    "app.exec_()"
   ]
  },
  {
   "cell_type": "markdown",
   "metadata": {},
   "source": [
    "### Tasks 1:\n",
    "Fill in the TODO part in the DFS skeleton code to add all unvisited neighbours to the stack."
   ]
  },
  {
   "cell_type": "code",
   "execution_count": 7,
   "metadata": {},
   "outputs": [],
   "source": [
    "def DFS(graph, start, goal):\n",
    "    # Initialize the stack with the starting node and an empty path\n",
    "    stack = [(start, [])]\n",
    "    # Set to keep track of visited nodes\n",
    "    visited = set()\n",
    "    # Counter to keep track of node expansions\n",
    "    node_expansions = 0\n",
    "\n",
    "    while stack:\n",
    "        # Pop a node and its path from the stack\n",
    "        node, path = stack.pop()\n",
    "\n",
    "        # If the node has been visited, skip it\n",
    "        if node in visited:\n",
    "            continue\n",
    "\n",
    "        # Mark the node as visited\n",
    "        visited.add(node)\n",
    "\n",
    "        # Append the current node to the path\n",
    "        path = path + [node]\n",
    "\n",
    "        # If the goal is reached, return the path, its length, and the number of node expansions\n",
    "        if node == goal:\n",
    "            return path, len(path), node_expansions\n",
    "\n",
    "        # Increment the node expansions counter\n",
    "        node_expansions += 1\n",
    "\n",
    "        # TODO: Add all unvisited neighbors to the stack\n",
    "        for neighbor in reversed(list(graph.neighbors(node))):\n",
    "            if neighbor not in visited:\n",
    "                stack.append((neighbor, path))\n",
    "\n",
    "    # If no path is found, return an empty list, infinity for path length, and the number of node expansions\n",
    "    return [], float(\"inf\"), node_expansions"
   ]
  },
  {
   "cell_type": "code",
   "execution_count": 8,
   "metadata": {},
   "outputs": [
    {
     "name": "stdout",
     "output_type": "stream",
     "text": [
      "['A', 'B', 'D', 'C', 'F', 'G', 'H']\n"
     ]
    }
   ],
   "source": [
    "path, cost, node_expansions = DFS(G, start, goal)\n",
    "print(path)"
   ]
  },
  {
   "cell_type": "markdown",
   "metadata": {},
   "source": [
    "### Task 2:\n",
    "Fill in the TODO part in the BFS skeleton code to add all unvisited neighbours to the queue."
   ]
  },
  {
   "cell_type": "code",
   "execution_count": 9,
   "metadata": {},
   "outputs": [],
   "source": [
    "def BFS(graph, start, goal):\n",
    "    # Initialize the queue with the starting node and an empty path\n",
    "    queue = [(start, [])]\n",
    "    # Set to keep track of visited nodes\n",
    "    visited = set()\n",
    "    # Counter to keep track of node expansions\n",
    "    node_expansions = 0\n",
    "\n",
    "    while queue:\n",
    "        # Dequeue a node and its path\n",
    "        node, path = queue.pop(0)\n",
    "\n",
    "        # If the node has been visited, skip it\n",
    "        if node in visited:\n",
    "            continue\n",
    "\n",
    "        # Mark the node as visited\n",
    "        visited.add(node)\n",
    "\n",
    "        # Append the current node to the path\n",
    "        path = path + [node]\n",
    "\n",
    "        # If the goal is reached, return the path, its length, and the number of node expansions\n",
    "        if node == goal:\n",
    "            return path, len(path), node_expansions\n",
    "\n",
    "        # Increment the node expansions counter\n",
    "        node_expansions += 1\n",
    "\n",
    "        # TODO: Add all unvisited neighbors to the queue\n",
    "        for neighbor in graph.neighbors(node):\n",
    "            if neighbor not in visited:\n",
    "                queue.append((neighbor, path))\n",
    "\n",
    "    # If no path is found, return an empty list, infinity for path length, and the number of node expansions\n",
    "    return [], float(\"inf\"), node_expansions"
   ]
  },
  {
   "cell_type": "code",
   "execution_count": 10,
   "metadata": {},
   "outputs": [
    {
     "name": "stdout",
     "output_type": "stream",
     "text": [
      "['A', 'C', 'F', 'H']\n"
     ]
    }
   ],
   "source": [
    "path, cost, node_expansions = BFS(G, start, goal)\n",
    "print(path)"
   ]
  },
  {
   "cell_type": "markdown",
   "metadata": {},
   "source": [
    "### Task 3:\n",
    "Fill in the TODO part in the UCS skeleton code to add all unvisited neighbours to the priority queue with their cumulative cost."
   ]
  },
  {
   "cell_type": "code",
   "execution_count": 11,
   "metadata": {},
   "outputs": [],
   "source": [
    "def UCS(graph, start, goal):\n",
    "    # Initialize the priority queue with the starting node, cost 0, and an empty path\n",
    "    queue = [(0, start, [])]\n",
    "    # Set to keep track of visited nodes\n",
    "    visited = set()\n",
    "    # Counter to keep track of node expansions\n",
    "    node_expansions = 0\n",
    "\n",
    "    while queue:\n",
    "        # Dequeue the node with the lowest cost\n",
    "        cost, node, path = heapq.heappop(queue)\n",
    "\n",
    "        # If the node has been visited, skip it\n",
    "        if node in visited:\n",
    "            continue\n",
    "\n",
    "        # Mark the node as visited\n",
    "        visited.add(node)\n",
    "\n",
    "        # Append the current node to the path\n",
    "        path = path + [node]\n",
    "\n",
    "        # If the goal is reached, return the path, its length, and the number of node expansions\n",
    "        if node == goal:\n",
    "            return path, cost, node_expansions\n",
    "\n",
    "        # Increment the node expansions counter\n",
    "        node_expansions += 1\n",
    "\n",
    "        # TODO: Add all unvisited neighbors to the priority queue with their cumulative cost\n",
    "        for neighbor in graph.neighbors(node):\n",
    "            if neighbor not in visited:\n",
    "                edge_weight = graph.edges[node, neighbor].get(\"weight\", 1)\n",
    "                cumulative_cost = cost + edge_weight\n",
    "                heapq.heappush(queue, (cumulative_cost, neighbor, path))\n",
    "\n",
    "    # If no path is found, return an empty list, infinity for path length, and the number of node expansions\n",
    "    return [], float(\"inf\"), node_expansions"
   ]
  },
  {
   "cell_type": "code",
   "execution_count": 12,
   "metadata": {},
   "outputs": [
    {
     "name": "stdout",
     "output_type": "stream",
     "text": [
      "['A', 'B', 'D', 'C', 'F', 'H']\n"
     ]
    }
   ],
   "source": [
    "path, cost, node_expansions = UCS(G, start, goal)\n",
    "print(path)"
   ]
  },
  {
   "cell_type": "markdown",
   "metadata": {},
   "source": [
    "### Task 4:\n",
    "Fill in the TODO part in the Best-First Search skeleton code to add all unvisited neighbours to the priority queue with their heuristic value."
   ]
  },
  {
   "cell_type": "code",
   "execution_count": 13,
   "metadata": {},
   "outputs": [],
   "source": [
    "def best_first_search(graph, start, goal, heuristic):\n",
    "    # Initialize the priority queue with the starting node, its heuristic value, and an empty path\n",
    "    queue = [(heuristic[start], start, [])]\n",
    "    # Set to keep track of visited nodes\n",
    "    visited = set()\n",
    "    # Counter to keep track of node expansions\n",
    "    node_expansions = 0\n",
    "\n",
    "    while queue:\n",
    "        # Dequeue the node with the lowest heuristic value\n",
    "        _, node, path = heapq.heappop(queue)\n",
    "\n",
    "        # If the node has been visited, skip it\n",
    "        if node in visited:\n",
    "            continue\n",
    "\n",
    "        # Mark the node as visited\n",
    "        visited.add(node)\n",
    "\n",
    "        # Append the current node to the path\n",
    "        path = path + [node]\n",
    "\n",
    "        # If the goal is reached, return the path, its length, and the number of node expansions\n",
    "        if node == goal:\n",
    "            return path, len(path), node_expansions\n",
    "\n",
    "        # Increment the node expansions counter\n",
    "        node_expansions += 1\n",
    "\n",
    "        # TODO: Add all unvisited neighbors to the priority queue with their heuristic value\n",
    "        for neighbor in graph.neighbors(node):\n",
    "            if neighbor not in visited:\n",
    "                heapq.heappush(queue, (heuristic[neighbor], neighbor, path))\n",
    "\n",
    "    # If no path is found, return an empty list, infinity for path length, and the number of node expansions\n",
    "    return [], float(\"inf\"), node_expansions"
   ]
  },
  {
   "cell_type": "code",
   "execution_count": 14,
   "metadata": {},
   "outputs": [
    {
     "name": "stdout",
     "output_type": "stream",
     "text": [
      "['A', 'C', 'F', 'H']\n"
     ]
    }
   ],
   "source": [
    "path, cost, node_expansions = best_first_search(G, start, goal, heuristic)\n",
    "print(path)"
   ]
  },
  {
   "cell_type": "markdown",
   "metadata": {},
   "source": [
    "### Task 5:\n",
    "Fill in the TODO part in the A* skeleton code to add all unvisited neighbours to the priority queue with their cumulative cost + heuristic value."
   ]
  },
  {
   "cell_type": "code",
   "execution_count": 15,
   "metadata": {},
   "outputs": [],
   "source": [
    "def a_star(graph, start, goal, heuristic):\n",
    "    # Initialize the priority queue with the starting node, cost 0, its heuristic value, and an empty path\n",
    "    queue = [(heuristic[start], 0, start, [])]\n",
    "    # Set to keep track of visited nodes\n",
    "    visited = set()\n",
    "    # Counter to keep track of node expansions\n",
    "    node_expansions = 0\n",
    "\n",
    "    while queue:\n",
    "        # Dequeue the node with the lowest cost + heuristic value\n",
    "        _, cost, node, path = heapq.heappop(queue)\n",
    "\n",
    "        # If the node has been visited, skip it\n",
    "        if node in visited:\n",
    "            continue\n",
    "\n",
    "        # Mark the node as visited\n",
    "        visited.add(node)\n",
    "\n",
    "        # Append the current node to the path\n",
    "        path = path + [node]\n",
    "\n",
    "        # If the goal is reached, return the path, its length, and the number of node expansions\n",
    "        if node == goal:\n",
    "            return path, cost, node_expansions\n",
    "\n",
    "        # Increment the node expansions counter\n",
    "        node_expansions += 1\n",
    "\n",
    "        # TODO: Add all unvisited neighbors to the priority queue with their cumulative cost + heuristic value\n",
    "        for neighbor in graph.neighbors(node):\n",
    "            if neighbor not in visited:\n",
    "                edge_weight = graph.edges[node, neighbor].get(\"weight\", 1)\n",
    "                new_cost = cost + edge_weight\n",
    "                f = new_cost + heuristic[neighbor]\n",
    "                heapq.heappush(queue, (f, new_cost, neighbor, path))\n",
    "\n",
    "    # If no path is found, return an empty list, infinity for path length, and the number of node expansions\n",
    "    return [], float(\"inf\"), node_expansions"
   ]
  },
  {
   "cell_type": "code",
   "execution_count": 16,
   "metadata": {},
   "outputs": [
    {
     "name": "stdout",
     "output_type": "stream",
     "text": [
      "['A', 'B', 'E', 'G', 'H']\n"
     ]
    }
   ],
   "source": [
    "path, cost, node_expansions = a_star(G, start, goal, heuristic)\n",
    "print(path)"
   ]
  },
  {
   "cell_type": "markdown",
   "metadata": {},
   "source": [
    "### Analysis:"
   ]
  },
  {
   "cell_type": "code",
   "execution_count": 17,
   "metadata": {},
   "outputs": [
    {
     "name": "stdout",
     "output_type": "stream",
     "text": [
      "                                    path  cost  node_expansions  \\\n",
      "DFS                [A, B, D, C, F, G, H]     7                7   \n",
      "BFS                         [A, C, F, H]     4                7   \n",
      "UCS                   [A, B, D, C, F, H]     8                7   \n",
      "Best-First Search           [A, C, F, H]     4                3   \n",
      "A*                       [A, B, E, G, H]     8                4   \n",
      "\n",
      "                   time_complexity  space_complexity  \n",
      "DFS                       0.000032                 7  \n",
      "BFS                       0.000014                 4  \n",
      "UCS                       0.000033                 6  \n",
      "Best-First Search         0.000009                 4  \n",
      "A*                        0.000017                 5  \n"
     ]
    }
   ],
   "source": [
    "# Define the algorithms\n",
    "algorithms = {\n",
    "    \"DFS\": DFS,\n",
    "    \"BFS\": BFS,\n",
    "    \"UCS\": UCS,\n",
    "    \"Best-First Search\": best_first_search,\n",
    "    \"A*\": a_star,\n",
    "}\n",
    "\n",
    "# Define the metrics to store\n",
    "metrics = [\"path\", \"cost\", \"node_expansions\", \"time_complexity\", \"space_complexity\"]\n",
    "results = {metric: {} for metric in metrics}\n",
    "\n",
    "# Run each algorithm once and store the metrics\n",
    "for name, algorithm in algorithms.items():\n",
    "    result = run_algorithm(algorithm, G, start, goal, heuristic)\n",
    "    for metric in metrics:\n",
    "        results[metric][name] = result[metric]\n",
    "\n",
    "# Convert results to a DataFrame for each metric\n",
    "df = pd.DataFrame.from_dict(results)\n",
    "print(df)"
   ]
  },
  {
   "cell_type": "markdown",
   "metadata": {},
   "source": [
    "## More Examples"
   ]
  },
  {
   "attachments": {},
   "cell_type": "markdown",
   "metadata": {},
   "source": [
    "![My figure](https://unsw-my.sharepoint.com/:i:/g/personal/z5272300_ad_unsw_edu_au1/Ees_oOEW839HloVOW8GkxLEBhQKEqZZfK6P0-TYufanN9w?download=1)"
   ]
  },
  {
   "cell_type": "code",
   "execution_count": null,
   "metadata": {},
   "outputs": [
    {
     "data": {
      "text/plain": [
       "0"
      ]
     },
     "execution_count": 18,
     "metadata": {},
     "output_type": "execute_result"
    },
    {
     "data": {
      "image/png": "[encoded data removed]",
      "text/plain": [
       "<Figure size 640x475 with 1 Axes>"
      ]
     },
     "metadata": {},
     "output_type": "display_data"
    },
    {
     "ename": "",
     "evalue": "",
     "output_type": "error",
     "traceback": [
      "\u001b[1;31mThe Kernel crashed while executing code in the current cell or a previous cell. \n",
      "\u001b[1;31mPlease review the code in the cell(s) to identify a possible cause of the failure. \n",
      "\u001b[1;31mClick <a href='https://aka.ms/vscodeJupyterKernelCrash'>here</a> for more info. \n",
      "\u001b[1;31mView Jupyter <a href='command:jupyter.viewOutput'>log</a> for further details."
     ]
    }
   ],
   "source": [
    "# From additional material example\n",
    "app = QApplication(sys.argv)\n",
    "G = nx.Graph()\n",
    "\n",
    "# Add edges with weights (representing cost)\n",
    "edges = [\n",
    "    (\"S\", \"A\", 2),\n",
    "    (\"S\", \"C\", 3),\n",
    "    (\"A\", \"B\", 2),\n",
    "    (\"A\", \"C\", 2),\n",
    "    (\"A\", \"D\", 4),\n",
    "    (\"A\", \"T\", 6),\n",
    "    (\"B\", \"T\", 5),\n",
    "    (\"C\", \"D\", 2),\n",
    "    (\"C\", \"U\", 3),\n",
    "    (\"C\", \"X\", 5),\n",
    "    (\"D\", \"T\", 4),\n",
    "    (\"D\", \"X\", 2),\n",
    "    (\"E\", \"F\", 3),\n",
    "    (\"E\", \"W\", 4),\n",
    "    (\"F\", \"G\", 3),\n",
    "    (\"F\", \"W\", 2),\n",
    "    (\"F\", \"Y\", 2),\n",
    "    (\"F\", \"Z\", 2),\n",
    "    (\"G\", \"Z\", 3),\n",
    "    (\"T\", \"V\", 1),\n",
    "    (\"T\", \"X\", 2),\n",
    "    (\"U\", \"W\", 5),\n",
    "    (\"U\", \"X\", 2),\n",
    "    (\"V\", \"X\", 3),\n",
    "    (\"V\", \"Z\", 4),\n",
    "    (\"W\", \"X\", 3),\n",
    "    (\"W\", \"Y\", 2),\n",
    "    (\"X\", \"Y\", 4),\n",
    "    (\"X\", \"Z\", 6),\n",
    "    (\"Y\", \"Z\", 3),\n",
    "]\n",
    "\n",
    "\n",
    "G.add_weighted_edges_from(edges)\n",
    "\n",
    "# Define the heuristic (straight-line distances to H)\n",
    "\n",
    "heuristic = {\n",
    "    \"A\": 9,\n",
    "    \"B\": 7,\n",
    "    \"C\": 7,\n",
    "    \"D\": 7,\n",
    "    \"E\": 4,\n",
    "    \"F\": 3,\n",
    "    \"G\": 0,\n",
    "    \"S\": 9,\n",
    "    \"T\": 8,\n",
    "    \"U\": 7,\n",
    "    \"V\": 7,\n",
    "    \"W\": 2,\n",
    "    \"X\": 5,\n",
    "    \"Y\": 5,\n",
    "    \"Z\": 1,\n",
    "}\n",
    "\n",
    "fixed_start = \"S\"\n",
    "fixed_end = \"G\"\n",
    "\n",
    "viz = Visualiser(G, edges, heuristic, fixed_start, fixed_end)\n",
    "viz.show()\n",
    "# For .py please use thi below line to exit the app\n",
    "# sys.exit(app.exec_())\n",
    "# For .ipynb please use the below line to exit the app\n",
    "app.exec_()"
   ]
  },
  {
   "attachments": {},
   "cell_type": "markdown",
   "metadata": {},
   "source": [
    "![My figure](https://unsw-my.sharepoint.com/:i:/g/personal/z5272300_ad_unsw_edu_au1/EVpH1WvWSjdMik908D2wxdEBQ9NJ7l0o1jnWvBId4vhI3g?download=1)"
   ]
  },
  {
   "cell_type": "code",
   "execution_count": null,
   "metadata": {},
   "outputs": [],
   "source": [
    "# This is exam question 23T2\n",
    "app = QApplication(sys.argv)\n",
    "G = nx.Graph()\n",
    "\n",
    "edges = [\n",
    "    (\"A\", \"B\", 3),\n",
    "    (\"A\", \"C\", 4),\n",
    "    (\"A\", \"D\", 6),\n",
    "    (\"B\", \"A\", 3),\n",
    "    (\"B\", \"F\", 3),\n",
    "    (\"C\", \"A\", 4),\n",
    "    (\"C\", \"E\", 2),\n",
    "    (\"C\", \"D\", 3),\n",
    "    (\"D\", \"A\", 6),\n",
    "    (\"D\", \"C\", 3),\n",
    "    (\"D\", \"G\", 3),\n",
    "    (\"D\", \"H\", 2),\n",
    "    (\"E\", \"C\", 2),\n",
    "    (\"E\", \"G\", 2),\n",
    "    (\"F\", \"B\", 3),\n",
    "    (\"F\", \"H\", 5),\n",
    "    (\"G\", \"D\", 3),\n",
    "    (\"G\", \"E\", 2),\n",
    "    (\"G\", \"H\", 3),\n",
    "    (\"H\", \"D\", 3),\n",
    "    (\"H\", \"F\", 5),\n",
    "    (\"H\", \"G\", 3),\n",
    "]\n",
    "\n",
    "G.add_weighted_edges_from(edges)\n",
    "\n",
    "# Define the heuristic (straight-line distances to H)\n",
    "heuristic = {\"A\": 7, \"B\": 6, \"C\": 5, \"D\": 2, \"E\": 6, \"F\": 5, \"G\": 2, \"H\": 0}\n",
    "\n",
    "fixed_start = \"A\"\n",
    "fixed_end = \"H\"\n",
    "\n",
    "viz = Visualiser(G, edges, heuristic, fixed_start, fixed_end)\n",
    "viz.show()\n",
    "# For .py please use the below line to exit the app\n",
    "# sys.exit(app.exec_())\n",
    "# For .ipynb please use the below line to exit the app\n",
    "app.exec_()"
   ]
  },
  {
   "attachments": {},
   "cell_type": "markdown",
   "metadata": {},
   "source": [
    "![My figure](https://unsw-my.sharepoint.com/:i:/g/personal/z5272300_ad_unsw_edu_au1/Eaf3MQrc325Oh7PUMxxU5PEBv7cXcgDzi2wgwABl4SuRAw?download=1)"
   ]
  },
  {
   "cell_type": "code",
   "execution_count": null,
   "metadata": {},
   "outputs": [],
   "source": [
    "# Example from lecture note\n",
    "app = QApplication(sys.argv)\n",
    "G = nx.Graph()\n",
    "\n",
    "edges = [\n",
    "    (\"Arad\", \"Zerind\", 75),\n",
    "    (\"Arad\", \"Sibiu\", 140),\n",
    "    (\"Arad\", \"Timisoara\", 118),\n",
    "    (\"Zerind\", \"Oradea\", 71),\n",
    "    (\"Oradea\", \"Sibiu\", 151),\n",
    "    (\"Sibiu\", \"Fagaras\", 99),\n",
    "    (\"Sibiu\", \"Rimnicu Vilcea\", 80),\n",
    "    (\"Timisoara\", \"Lugoj\", 111),\n",
    "    (\"Lugoj\", \"Mehadia\", 70),\n",
    "    (\"Mehadia\", \"Dobreta\", 75),\n",
    "    (\"Dobreta\", \"Craiova\", 120),\n",
    "    (\"Craiova\", \"Pitesti\", 138),\n",
    "    (\"Craiova\", \"Rimnicu Vilcea\", 146),\n",
    "    (\"Rimnicu Vilcea\", \"Pitesti\", 97),\n",
    "    (\"Fagaras\", \"Bucharest\", 211),\n",
    "    (\"Pitesti\", \"Bucharest\", 101),\n",
    "    (\"Bucharest\", \"Urziceni\", 85),\n",
    "    (\"Bucharest\", \"Giurgiu\", 90),\n",
    "    (\"Urziceni\", \"Vaslui\", 142),\n",
    "    (\"Urziceni\", \"Hirsova\", 98),\n",
    "    (\"Hirsova\", \"Eforie\", 86),\n",
    "    (\"Vaslui\", \"Iasi\", 92),\n",
    "    (\"Iasi\", \"Neamt\", 87),\n",
    "]\n",
    "\n",
    "G.add_weighted_edges_from(edges)\n",
    "\n",
    "heuristic = {\n",
    "    \"Arad\": 366,\n",
    "    \"Bucharest\": 0,\n",
    "    \"Craiova\": 160,\n",
    "    \"Dobreta\": 242,\n",
    "    \"Eforie\": 161,\n",
    "    \"Fagaras\": 178,\n",
    "    \"Giurgiu\": 77,\n",
    "    \"Hirsova\": 151,\n",
    "    \"Iasi\": 226,\n",
    "    \"Lugoj\": 244,\n",
    "    \"Mehadia\": 241,\n",
    "    \"Neamt\": 234,\n",
    "    \"Oradea\": 380,\n",
    "    \"Pitesti\": 98,\n",
    "    \"Rimnicu Vilcea\": 193,\n",
    "    \"Sibiu\": 253,\n",
    "    \"Timisoara\": 329,\n",
    "    \"Urziceni\": 80,\n",
    "    \"Vaslui\": 199,\n",
    "    \"Zerind\": 374,\n",
    "}\n",
    "\n",
    "fixed_start = \"Arad\"\n",
    "fixed_end = \"Bucharest\"\n",
    "\n",
    "viz = Visualiser(G, edges, heuristic, fixed_start, fixed_end)\n",
    "viz.show()\n",
    "# For .py please use the below line to exit the app\n",
    "# sys.exit(app.exec_())\n",
    "# For .ipynb please use the below line to exit the app\n",
    "app.exec_()"
   ]
  }
 ],
 "metadata": {
  "kernelspec": {
   "display_name": "Python 3",
   "language": "python",
   "name": "python3"
  },
  "language_info": {
   "codemirror_mode": {
    "name": "ipython",
    "version": 3
   },
   "file_extension": ".py",
   "mimetype": "text/x-python",
   "name": "python",
   "nbconvert_exporter": "python",
   "pygments_lexer": "ipython3",
   "version": "3.13.5"
  }
 },
 "nbformat": 4,
 "nbformat_minor": 4
}
