{
 "cells": [
  {
   "cell_type": "code",
   "execution_count": null,
   "id": "35327ba7",
   "metadata": {},
   "outputs": [
    {
     "name": "stdout",
     "output_type": "stream",
     "text": [
      "Collecting swig\n",
      "  Downloading swig-4.3.1-py3-none-win_amd64.whl.metadata (3.5 kB)\n",
      "Downloading swig-4.3.1-py3-none-win_amd64.whl (2.6 MB)\n",
      "   ---------------------------------------- 0.0/2.6 MB ? eta -:--:--\n",
      "   ---------------------------- ----------- 1.8/2.6 MB 9.7 MB/s eta 0:00:01\n",
      "   ---------------------------------------- 2.6/2.6 MB 10.1 MB/s eta 0:00:00\n",
      "Installing collected packages: swig\n",
      "Successfully installed swig-4.3.1\n",
      "Collecting gymnasium[box2d]\n",
      "  Downloading gymnasium-1.1.1-py3-none-any.whl.metadata (9.4 kB)\n",
      "Collecting numpy>=1.21.0 (from gymnasium[box2d])\n",
      "  Downloading numpy-2.2.6-cp313-cp313-win_amd64.whl.metadata (60 kB)\n",
      "Collecting cloudpickle>=1.2.0 (from gymnasium[box2d])\n",
      "  Downloading cloudpickle-3.1.1-py3-none-any.whl.metadata (7.1 kB)\n",
      "Collecting typing-extensions>=4.3.0 (from gymnasium[box2d])\n",
      "  Downloading typing_extensions-4.14.0-py3-none-any.whl.metadata (3.0 kB)\n",
      "Collecting farama-notifications>=0.0.1 (from gymnasium[box2d])\n",
      "  Downloading Farama_Notifications-0.0.4-py3-none-any.whl.metadata (558 bytes)\n",
      "Collecting box2d-py==2.3.5 (from gymnasium[box2d])\n",
      "  Downloading box2d-py-2.3.5.tar.gz (374 kB)\n",
      "  Installing build dependencies: started\n",
      "  Installing build dependencies: finished with status 'done'\n",
      "  Getting requirements to build wheel: started\n",
      "  Getting requirements to build wheel: finished with status 'done'\n",
      "  Preparing metadata (pyproject.toml): started\n",
      "  Preparing metadata (pyproject.toml): finished with status 'done'\n",
      "Collecting pygame>=2.1.3 (from gymnasium[box2d])\n",
      "  Downloading pygame-2.6.1-cp313-cp313-win_amd64.whl.metadata (13 kB)\n",
      "Requirement already satisfied: swig==4.* in c:\\users\\13512\\appdata\\local\\programs\\python\\python313\\lib\\site-packages (from gymnasium[box2d]) (4.3.1)\n",
      "Downloading gymnasium-1.1.1-py3-none-any.whl (965 kB)\n",
      "   ---------------------------------------- 0.0/965.4 kB ? eta -:--:--\n",
      "   --------------------------------------- 965.4/965.4 kB 14.1 MB/s eta 0:00:00\n",
      "Downloading cloudpickle-3.1.1-py3-none-any.whl (20 kB)\n",
      "Downloading Farama_Notifications-0.0.4-py3-none-any.whl (2.5 kB)\n",
      "Downloading numpy-2.2.6-cp313-cp313-win_amd64.whl (12.6 MB)\n",
      "   ---------------------------------------- 0.0/12.6 MB ? eta -:--:--\n",
      "   -------- ------------------------------- 2.6/12.6 MB 14.8 MB/s eta 0:00:01\n",
      "   ------------------- -------------------- 6.0/12.6 MB 14.2 MB/s eta 0:00:01\n",
      "   ----------------------------- ---------- 9.2/12.6 MB 14.9 MB/s eta 0:00:01\n",
      "   -------------------------------------- - 12.1/12.6 MB 14.8 MB/s eta 0:00:01\n",
      "   ---------------------------------------- 12.6/12.6 MB 14.4 MB/s eta 0:00:00\n",
      "Downloading pygame-2.6.1-cp313-cp313-win_amd64.whl (10.6 MB)\n",
      "   ---------------------------------------- 0.0/10.6 MB ? eta -:--:--\n",
      "   ---------- ----------------------------- 2.9/10.6 MB 14.9 MB/s eta 0:00:01\n",
      "   ---------------------- ----------------- 6.0/10.6 MB 15.1 MB/s eta 0:00:01\n",
      "   ------------------------------------ --- 9.7/10.6 MB 16.0 MB/s eta 0:00:01\n",
      "   ---------------------------------------- 10.6/10.6 MB 15.6 MB/s eta 0:00:00\n",
      "Downloading typing_extensions-4.14.0-py3-none-any.whl (43 kB)\n",
      "Building wheels for collected packages: box2d-py\n",
      "  Building wheel for box2d-py (pyproject.toml): started\n",
      "  Building wheel for box2d-py (pyproject.toml): finished with status 'error'\n",
      "Failed to build box2d-py\n"
     ]
    },
    {
     "name": "stderr",
     "output_type": "stream",
     "text": [
      "  error: subprocess-exited-with-error\n",
      "  \n",
      "  × Building wheel for box2d-py (pyproject.toml) did not run successfully.\n",
      "  │ exit code: 1\n",
      "  ╰─> [35 lines of output]\n",
      "      Using setuptools (version 80.9.0).\n",
      "      C:\\Users\\13512\\AppData\\Local\\Temp\\pip-build-env-9aq4f503\\overlay\\Lib\\site-packages\\setuptools\\_distutils\\dist.py:289: UserWarning: Unknown distribution option: 'test_suite'\n",
      "        warnings.warn(msg)\n",
      "      C:\\Users\\13512\\AppData\\Local\\Temp\\pip-build-env-9aq4f503\\overlay\\Lib\\site-packages\\setuptools\\dist.py:759: SetuptoolsDeprecationWarning: License classifiers are deprecated.\n",
      "      !!\n",
      "      \n",
      "              ********************************************************************************\n",
      "              Please consider removing the following classifiers in favor of a SPDX license expression:\n",
      "      \n",
      "              License :: OSI Approved :: zlib/libpng License\n",
      "      \n",
      "              See https://packaging.python.org/en/latest/guides/writing-pyproject-toml/#license for details.\n",
      "              ********************************************************************************\n",
      "      \n",
      "      !!\n",
      "        self._finalize_license_expression()\n",
      "      running bdist_wheel\n",
      "      running build\n",
      "      running build_py\n",
      "      creating build\\lib.win-amd64-cpython-313\\Box2D\n",
      "      copying library\\Box2D\\Box2D.py -> build\\lib.win-amd64-cpython-313\\Box2D\n",
      "      copying library\\Box2D\\__init__.py -> build\\lib.win-amd64-cpython-313\\Box2D\n",
      "      creating build\\lib.win-amd64-cpython-313\\Box2D\\b2\n",
      "      copying library\\Box2D\\b2\\__init__.py -> build\\lib.win-amd64-cpython-313\\Box2D\\b2\n",
      "      running build_ext\n",
      "      building 'Box2D._Box2D' extension\n",
      "      swigging Box2D\\Box2D.i to Box2D\\Box2D_wrap.cpp\n",
      "      swig.exe -python -c++ -IBox2D -small -O -includeall -ignoremissing -w201 -globals b2Globals -outdir library\\Box2D -keyword -w511 -D_SWIG_KWARGS -o Box2D\\Box2D_wrap.cpp Box2D\\Box2D.i\n",
      "      Traceback (most recent call last):\n",
      "        File \u001b[35m\"<frozen runpy>\"\u001b[0m, line \u001b[35m198\u001b[0m, in \u001b[35m_run_module_as_main\u001b[0m\n",
      "        File \u001b[35m\"<frozen runpy>\"\u001b[0m, line \u001b[35m88\u001b[0m, in \u001b[35m_run_code\u001b[0m\n",
      "        File \u001b[35m\"C:\\Users\\13512\\AppData\\Local\\Programs\\Python\\Python313\\Scripts\\swig.exe\\__main__.py\"\u001b[0m, line \u001b[35m4\u001b[0m, in \u001b[35m<module>\u001b[0m\n",
      "          from swig import swig\n",
      "      \u001b[1;35mModuleNotFoundError\u001b[0m: \u001b[35mNo module named 'swig'\u001b[0m\n",
      "      error: command 'C:\\\\Users\\\\13512\\\\AppData\\\\Local\\\\Programs\\\\Python\\\\Python313\\\\Scripts\\\\swig.exe' failed with exit code 1\n",
      "      [end of output]\n",
      "  \n",
      "  note: This error originates from a subprocess, and is likely not a problem with pip.\n",
      "  ERROR: Failed building wheel for box2d-py\n",
      "ERROR: Failed to build installable wheels for some pyproject.toml based projects (box2d-py)\n"
     ]
    }
   ],
   "source": [
    "!pip install swig"
   ]
  },
  {
   "cell_type": "code",
   "execution_count": 10,
   "id": "f7887a60",
   "metadata": {},
   "outputs": [
    {
     "name": "stdout",
     "output_type": "stream",
     "text": [
      "Collecting gymnasium[box2d]\n",
      "  Using cached gymnasium-1.1.1-py3-none-any.whl.metadata (9.4 kB)\n",
      "Collecting numpy>=1.21.0 (from gymnasium[box2d])\n",
      "  Using cached numpy-2.2.6-cp313-cp313-win_amd64.whl.metadata (60 kB)\n",
      "Collecting cloudpickle>=1.2.0 (from gymnasium[box2d])\n",
      "  Using cached cloudpickle-3.1.1-py3-none-any.whl.metadata (7.1 kB)\n",
      "Collecting typing-extensions>=4.3.0 (from gymnasium[box2d])\n",
      "  Using cached typing_extensions-4.14.0-py3-none-any.whl.metadata (3.0 kB)\n",
      "Collecting farama-notifications>=0.0.1 (from gymnasium[box2d])\n",
      "  Using cached Farama_Notifications-0.0.4-py3-none-any.whl.metadata (558 bytes)\n",
      "Collecting box2d-py==2.3.5 (from gymnasium[box2d])\n",
      "  Using cached box2d-py-2.3.5.tar.gz (374 kB)\n",
      "  Installing build dependencies: started\n",
      "  Installing build dependencies: finished with status 'done'\n",
      "  Getting requirements to build wheel: started\n",
      "  Getting requirements to build wheel: finished with status 'done'\n",
      "  Preparing metadata (pyproject.toml): started\n",
      "  Preparing metadata (pyproject.toml): finished with status 'done'\n",
      "Collecting pygame>=2.1.3 (from gymnasium[box2d])\n",
      "  Using cached pygame-2.6.1-cp313-cp313-win_amd64.whl.metadata (13 kB)\n",
      "Requirement already satisfied: swig==4.* in c:\\users\\13512\\appdata\\local\\programs\\python\\python313\\lib\\site-packages (from gymnasium[box2d]) (4.3.1)\n",
      "Using cached gymnasium-1.1.1-py3-none-any.whl (965 kB)\n",
      "Using cached cloudpickle-3.1.1-py3-none-any.whl (20 kB)\n",
      "Using cached Farama_Notifications-0.0.4-py3-none-any.whl (2.5 kB)\n",
      "Using cached numpy-2.2.6-cp313-cp313-win_amd64.whl (12.6 MB)\n",
      "Using cached pygame-2.6.1-cp313-cp313-win_amd64.whl (10.6 MB)\n",
      "Using cached typing_extensions-4.14.0-py3-none-any.whl (43 kB)\n",
      "Building wheels for collected packages: box2d-py\n",
      "  Building wheel for box2d-py (pyproject.toml): started\n",
      "  Building wheel for box2d-py (pyproject.toml): finished with status 'error'\n",
      "Failed to build box2d-py\n"
     ]
    },
    {
     "name": "stderr",
     "output_type": "stream",
     "text": [
      "  error: subprocess-exited-with-error\n",
      "  \n",
      "  × Building wheel for box2d-py (pyproject.toml) did not run successfully.\n",
      "  │ exit code: 1\n",
      "  ╰─> [35 lines of output]\n",
      "      Using setuptools (version 80.9.0).\n",
      "      C:\\Users\\13512\\AppData\\Local\\Temp\\pip-build-env-gio1n_ou\\overlay\\Lib\\site-packages\\setuptools\\_distutils\\dist.py:289: UserWarning: Unknown distribution option: 'test_suite'\n",
      "        warnings.warn(msg)\n",
      "      C:\\Users\\13512\\AppData\\Local\\Temp\\pip-build-env-gio1n_ou\\overlay\\Lib\\site-packages\\setuptools\\dist.py:759: SetuptoolsDeprecationWarning: License classifiers are deprecated.\n",
      "      !!\n",
      "      \n",
      "              ********************************************************************************\n",
      "              Please consider removing the following classifiers in favor of a SPDX license expression:\n",
      "      \n",
      "              License :: OSI Approved :: zlib/libpng License\n",
      "      \n",
      "              See https://packaging.python.org/en/latest/guides/writing-pyproject-toml/#license for details.\n",
      "              ********************************************************************************\n",
      "      \n",
      "      !!\n",
      "        self._finalize_license_expression()\n",
      "      running bdist_wheel\n",
      "      running build\n",
      "      running build_py\n",
      "      creating build\\lib.win-amd64-cpython-313\\Box2D\n",
      "      copying library\\Box2D\\Box2D.py -> build\\lib.win-amd64-cpython-313\\Box2D\n",
      "      copying library\\Box2D\\__init__.py -> build\\lib.win-amd64-cpython-313\\Box2D\n",
      "      creating build\\lib.win-amd64-cpython-313\\Box2D\\b2\n",
      "      copying library\\Box2D\\b2\\__init__.py -> build\\lib.win-amd64-cpython-313\\Box2D\\b2\n",
      "      running build_ext\n",
      "      building 'Box2D._Box2D' extension\n",
      "      swigging Box2D\\Box2D.i to Box2D\\Box2D_wrap.cpp\n",
      "      swig.exe -python -c++ -IBox2D -small -O -includeall -ignoremissing -w201 -globals b2Globals -outdir library\\Box2D -keyword -w511 -D_SWIG_KWARGS -o Box2D\\Box2D_wrap.cpp Box2D\\Box2D.i\n",
      "      Traceback (most recent call last):\n",
      "        File \u001b[35m\"<frozen runpy>\"\u001b[0m, line \u001b[35m198\u001b[0m, in \u001b[35m_run_module_as_main\u001b[0m\n",
      "        File \u001b[35m\"<frozen runpy>\"\u001b[0m, line \u001b[35m88\u001b[0m, in \u001b[35m_run_code\u001b[0m\n",
      "        File \u001b[35m\"C:\\Users\\13512\\AppData\\Local\\Programs\\Python\\Python313\\Scripts\\swig.exe\\__main__.py\"\u001b[0m, line \u001b[35m4\u001b[0m, in \u001b[35m<module>\u001b[0m\n",
      "          from swig import swig\n",
      "      \u001b[1;35mModuleNotFoundError\u001b[0m: \u001b[35mNo module named 'swig'\u001b[0m\n",
      "      error: command 'C:\\\\Users\\\\13512\\\\AppData\\\\Local\\\\Programs\\\\Python\\\\Python313\\\\Scripts\\\\swig.exe' failed with exit code 1\n",
      "      [end of output]\n",
      "  \n",
      "  note: This error originates from a subprocess, and is likely not a problem with pip.\n",
      "  ERROR: Failed building wheel for box2d-py\n",
      "ERROR: Failed to build installable wheels for some pyproject.toml based projects (box2d-py)\n"
     ]
    }
   ],
   "source": [
    "!pip install gymnasium[box2d]"
   ]
  },
  {
   "cell_type": "code",
   "execution_count": 12,
   "id": "fe9aa009",
   "metadata": {},
   "outputs": [
    {
     "name": "stdout",
     "output_type": "stream",
     "text": [
      "Collecting gymnasium\n",
      "  Using cached gymnasium-1.1.1-py3-none-any.whl.metadata (9.4 kB)\n",
      "Collecting numpy>=1.21.0 (from gymnasium)\n",
      "  Using cached numpy-2.2.6-cp313-cp313-win_amd64.whl.metadata (60 kB)\n",
      "Collecting cloudpickle>=1.2.0 (from gymnasium)\n",
      "  Using cached cloudpickle-3.1.1-py3-none-any.whl.metadata (7.1 kB)\n",
      "Collecting typing-extensions>=4.3.0 (from gymnasium)\n",
      "  Using cached typing_extensions-4.14.0-py3-none-any.whl.metadata (3.0 kB)\n",
      "Collecting farama-notifications>=0.0.1 (from gymnasium)\n",
      "  Using cached Farama_Notifications-0.0.4-py3-none-any.whl.metadata (558 bytes)\n",
      "Using cached gymnasium-1.1.1-py3-none-any.whl (965 kB)\n",
      "Using cached cloudpickle-3.1.1-py3-none-any.whl (20 kB)\n",
      "Using cached Farama_Notifications-0.0.4-py3-none-any.whl (2.5 kB)\n",
      "Using cached numpy-2.2.6-cp313-cp313-win_amd64.whl (12.6 MB)\n",
      "Using cached typing_extensions-4.14.0-py3-none-any.whl (43 kB)\n",
      "Installing collected packages: farama-notifications, typing-extensions, numpy, cloudpickle, gymnasium\n",
      "\n",
      "   ---------------- ----------------------- 2/5 [numpy]\n",
      "   ---------------- ----------------------- 2/5 [numpy]\n",
      "   ---------------- ----------------------- 2/5 [numpy]\n",
      "   ---------------- ----------------------- 2/5 [numpy]\n",
      "   ---------------- ----------------------- 2/5 [numpy]\n",
      "   ---------------- ----------------------- 2/5 [numpy]\n",
      "   ---------------- ----------------------- 2/5 [numpy]\n",
      "   ---------------- ----------------------- 2/5 [numpy]\n",
      "   ---------------- ----------------------- 2/5 [numpy]\n",
      "   ---------------- ----------------------- 2/5 [numpy]\n",
      "   ---------------- ----------------------- 2/5 [numpy]\n",
      "   ---------------- ----------------------- 2/5 [numpy]\n",
      "   ---------------- ----------------------- 2/5 [numpy]\n",
      "   ---------------- ----------------------- 2/5 [numpy]\n",
      "   ---------------- ----------------------- 2/5 [numpy]\n",
      "   ---------------- ----------------------- 2/5 [numpy]\n",
      "   ---------------- ----------------------- 2/5 [numpy]\n",
      "   -------------------------------- ------- 4/5 [gymnasium]\n",
      "   -------------------------------- ------- 4/5 [gymnasium]\n",
      "   -------------------------------- ------- 4/5 [gymnasium]\n",
      "   -------------------------------- ------- 4/5 [gymnasium]\n",
      "   ---------------------------------------- 5/5 [gymnasium]\n",
      "\n",
      "Successfully installed cloudpickle-3.1.1 farama-notifications-0.0.4 gymnasium-1.1.1 numpy-2.2.6 typing-extensions-4.14.0\n"
     ]
    }
   ],
   "source": [
    "!pip install gymnasium"
   ]
  },
  {
   "cell_type": "code",
   "execution_count": 14,
   "id": "5459cde1",
   "metadata": {},
   "outputs": [
    {
     "name": "stdout",
     "output_type": "stream",
     "text": [
      "Collecting pygame\n",
      "  Using cached pygame-2.6.1-cp313-cp313-win_amd64.whl.metadata (13 kB)\n",
      "Using cached pygame-2.6.1-cp313-cp313-win_amd64.whl (10.6 MB)\n",
      "Installing collected packages: pygame\n",
      "Successfully installed pygame-2.6.1\n"
     ]
    }
   ],
   "source": [
    "!pip install pygame"
   ]
  },
  {
   "cell_type": "code",
   "execution_count": 19,
   "id": "4ef99374",
   "metadata": {},
   "outputs": [
    {
     "name": "stdout",
     "output_type": "stream",
     "text": [
      "Requirement already satisfied: gymnasium[classic-control] in c:\\users\\13512\\appdata\\local\\programs\\python\\python313\\lib\\site-packages (1.1.1)\n",
      "Requirement already satisfied: numpy>=1.21.0 in c:\\users\\13512\\appdata\\local\\programs\\python\\python313\\lib\\site-packages (from gymnasium[classic-control]) (2.2.6)\n",
      "Requirement already satisfied: cloudpickle>=1.2.0 in c:\\users\\13512\\appdata\\local\\programs\\python\\python313\\lib\\site-packages (from gymnasium[classic-control]) (3.1.1)\n",
      "Requirement already satisfied: typing-extensions>=4.3.0 in c:\\users\\13512\\appdata\\local\\programs\\python\\python313\\lib\\site-packages (from gymnasium[classic-control]) (4.14.0)\n",
      "Requirement already satisfied: farama-notifications>=0.0.1 in c:\\users\\13512\\appdata\\local\\programs\\python\\python313\\lib\\site-packages (from gymnasium[classic-control]) (0.0.4)\n",
      "Requirement already satisfied: pygame>=2.1.3 in c:\\users\\13512\\appdata\\local\\programs\\python\\python313\\lib\\site-packages (from gymnasium[classic-control]) (2.6.1)\n"
     ]
    }
   ],
   "source": [
    "!pip install gymnasium[classic-control]\n"
   ]
  },
  {
   "cell_type": "code",
   "execution_count": 21,
   "id": "ef7fca35",
   "metadata": {},
   "outputs": [],
   "source": [
    "import gymnasium as gym\n",
    "env = gym.make(\"MountainCar-v0\", render_mode=\"human\")\n",
    "observation, info = env.reset()\n",
    "\n",
    "for _ in range(1000):\n",
    "    action = env.action_space.sample()\n",
    "    observation, reward, terminated, truncated, info = env.step(action)\n",
    "\n",
    "    if terminated or truncated:\n",
    "        observation, info = env.reset()\n",
    "env.close()"
   ]
  },
  {
   "cell_type": "code",
   "execution_count": null,
   "id": "13b63e48",
   "metadata": {},
   "outputs": [],
   "source": [
    "import gymnasium as gym\n",
    "\n",
    "# Create the environment with rendering\n",
    "env = gym.make(\"MountainCar-v0\", render_mode=\"human\")\n",
    "observation, info = env.reset()\n",
    "\n",
    "for _ in range(1000):\n",
    "    # Take a random action\n",
    "    action = env.action_space.sample()\n",
    "    observation, reward, terminated, truncated, info = env.step(action)\n",
    "\n",
    "    # Reset the environment if episode is over\n",
    "    if terminated or truncated:\n",
    "        observation, info = env.reset()\n",
    "\n",
    "# Clean up and close the environment\n",
    "env.close()"
   ]
  },
  {
   "cell_type": "code",
   "execution_count": 2,
   "id": "2bfbba4a",
   "metadata": {},
   "outputs": [],
   "source": [
    "import gymnasium as gym\n",
    "\n",
    "# Create the environment with rendering\n",
    "env = gym.make(\"MountainCarContinuous-v0\", render_mode=\"human\", goal_velocity=0.3)  # default goal_velocity=0\n",
    "env.reset(seed=123, options={\"low\": -0.7, \"high\": -0.2})  # default low=-0.6, high=-0.4\n",
    "observation, info = env.reset()\n",
    "\n",
    "for _ in range(1000):\n",
    "    # Take a random action\n",
    "    action = env.action_space.sample()\n",
    "    observation, reward, terminated, truncated, info = env.step(action)\n",
    "\n",
    "    # Reset the environment if episode is over\n",
    "    if terminated or truncated:\n",
    "        observation, info = env.reset()\n",
    "\n",
    "# Clean up and close the environment\n",
    "env.close()"
   ]
  },
  {
   "cell_type": "code",
   "execution_count": null,
   "id": "a75f8eb9",
   "metadata": {},
   "outputs": [],
   "source": []
  }
 ],
 "metadata": {
  "kernelspec": {
   "display_name": "Python 3",
   "language": "python",
   "name": "python3"
  },
  "language_info": {
   "codemirror_mode": {
    "name": "ipython",
    "version": 3
   },
   "file_extension": ".py",
   "mimetype": "text/x-python",
   "name": "python",
   "nbconvert_exporter": "python",
   "pygments_lexer": "ipython3",
   "version": "3.13.3"
  }
 },
 "nbformat": 4,
 "nbformat_minor": 5
}
