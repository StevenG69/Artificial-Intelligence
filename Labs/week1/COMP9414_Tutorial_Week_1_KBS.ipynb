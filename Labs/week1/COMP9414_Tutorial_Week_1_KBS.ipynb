{
  "cells": [
    {
      "cell_type": "markdown",
      "metadata": {
        "id": "S2uHiFBUAGlm"
      },
      "source": [
        "#Artificial Intelligence - COMP9414\n",
        "\n",
        "---\n",
        "\n",
        "\n",
        "###Tutorial week 1 - Knowledge representation and reasoning\n",
        "\n"
      ]
    },
    {
      "cell_type": "markdown",
      "metadata": {
        "id": "5vQYoNXyEtvZ"
      },
      "source": [
        "##Background\n",
        "\n",
        "Knowledge Representation and Reasoning (KRR) is a fundamental area of AI that focuses on how knowledge about the world can be formally represented and used by a machine to solve complex tasks.\n",
        "This discipline intertwines the cognitive aspects of how humans understand and process information with the computational methods necessary for enabling machines to exhibit intelligent behaviour.\n",
        "\n",
        "In AI systems, the integration of knowledge representation and reasoning capabilities allows for the development of intelligent agents that can operate autonomously in complex environments.\n",
        "For instance, KRR is essential in natural language processing (NLP) for understanding and generating human language by associating linguistic input with world knowledge.\n",
        "\n",
        "###Rule-based Systems\n",
        "\n",
        "A rule-based system is a type of computer system that leverages domain-specific knowledge in the form of predefined rules.\n",
        "In any field or domain, there exists a body of specialised knowledge that experts use to solve problems or make decisions. This knowledge encompasses facts, relationships, constraints, and patterns relevant to that domain.\n",
        "In a rule-based system, this domain-specific knowledge is captured and represented in the form of rules.\n",
        "For example, in the medical domain, knowledge about symptoms, diseases, and their relationships might be represented.\n",
        "\n",
        "Rules form the backbone of a rule-based system.\n",
        "These rules are expressed in the form of \"if-then\" statements, also known as production rules.\n",
        "Each rule consists of two parts: the antecedent (the \"if\" part) and the consequent (the \"then\" part).\n",
        "The antecedent specifies the conditions or criteria that must be met for the rule to be applied, while the consequent specifies the action or conclusion to be taken if the conditions are met.\n",
        "Rules encode the logical relationships, decision criteria, or problem-solving strategies relevant to the domain.\n",
        "\n",
        "Rule-based systems can effectively solve problems, make decisions, or provide recommendations within their designated domain.\n",
        "These systems are particularly useful in domains where expertise can be codified into explicit rules, such as expert systems, diagnostic systems, decision support systems, and natural language processing applications.\n",
        "For instance, a rule-based system might assist a doctor in choosing a diagnosis based on symptoms, or select tactical moves to play a game.\n",
        "\n",
        "###Knowledge Representation\n",
        "\n",
        "At its core, knowledge representation is about encoding information about the world in a form that a computer system can utilise to solve complex tasks such as diagnosing a medical condition, carrying out natural language conversations, or navigating in a dynamic environment. It involves defining the structure and semantics of information, such as objects, events, and their relationships, using languages and frameworks like logic, semantic networks, and frames.\n",
        "\n",
        "The choice of representation significantly impacts a system's ability to reason about the world. For instance, logical representations, such as first-order logic, provide a powerful and expressive language for capturing facts and rules about the world but may be computationally intensive. Alternatively, more heuristic-based representations might offer computational efficiency at the expense of expressiveness.\n",
        "\n",
        "###Reasoning\n",
        "\n",
        "Reasoning is the process by which a system derives conclusions or makes decisions based on the knowledge it possesses. In KRR, reasoning typically involves inference mechanisms that apply logical rules to the knowledge base to generate new knowledge or verify the consistency of the existing knowledge.\n",
        "\n",
        "Various reasoning techniques exist, including deductive reasoning, where conclusions are drawn from general rules; inductive reasoning, which involves generalising from specific instances; and abductive reasoning, which infers the most likely explanations for given data. Each of these reasoning strategies can be applied depending on the nature of the problem and the available knowledge.\n"
      ]
    },
    {
      "cell_type": "markdown",
      "metadata": {
        "id": "dWpl_vTazzzC"
      },
      "source": [
        "##Environments\n",
        "\n",
        "###Mountain Car Environment\n",
        "\n",
        "For this tutorial, we will use the gymnasium library.\n",
        "This is a well-known library regularly used for reinforcement learning environments.\n",
        "In particular, we will use the Mountain Car environment and create a simple rule-based system to control the car movement.\n",
        "\n",
        "The Mountain Car is a control problem in which a car is located on a unidimensional track between two steep hills.\n",
        "The car starts at a random position at the bottom of the valley ($-0.6 < x < 0.4$) with no velocity ($v = 0$).\n",
        "The aim is to reach the top of the right hill.\n",
        "However, the car engine does not have enough power to claim to the top directly and, therefore, needs to build momentum moving toward the left hill first.\n",
        "An agent controlling the car movements observes two state variables, namely, the position $x$ and the velocity $v$.\n",
        "The position $x$ varies between $-1.2$ and $0.6$ in the x-axis (with $x=-0.53$ the lowest height) and the velocity $v$ between -0.07 and 0.07.\n",
        "The agent can take three different actions: accelerate the car to the left (0), do not accelerate (1), and accelerate the car to the right (2).\n",
        "The task is completed in case the top of the right hill is climbed ($x \\geq 0.5$) or if the length of the episode is 200 iterations in which case the episode is forcibly terminated.\n",
        "\n",
        "Gymnasium environments provide access to the environment action and observation spaces.\n",
        "The following code initialises an environment while visually rendering the output (be aware that rendering the output might not be available on platforms such as Colab).\n",
        "Next, a random action is selected and performed in the environment for a predetermined number of iterations.\n",
        "\n",
        "\n",
        ">import gymnasium as gym\n",
        "\n",
        ">env = gym.make(\"MountainCar-v0\", render_mode=\"human\")\n",
        "\n",
        ">observation, info = env.reset()\n",
        "\n",
        ">for _ in range(1000):\n",
        "\n",
        ">>    action = env.action_space.sample()\n",
        "\n",
        ">>    observation, reward, terminated, truncated, info = env.step(action)\n",
        "\n",
        ">>    if terminated or truncated:\n",
        "\n",
        ">>>    observation, info = env.reset()\n",
        "\n",
        ">env.close()\n",
        "\n",
        "###Sudoku\n",
        "\n",
        "Sudoku is a popular logic-based number puzzle that challenges individuals to fill a $9\\times9$ grid such that each row, column, and $3\\times3$ subgrid contains all digits from 1 to 9 without repetition.\n",
        "The puzzle, which draws on the principles of Latin squares developed by Leonhard Euler, begins with a partially completed grid, and the task is to logically deduce the placement of the remaining numbers.\n",
        "\n",
        "Sudoku's appeal and complexity have garnered attention in various academic fields.\n",
        "In mathematics, the puzzle is often explored within combinatorial design theory, focusing on its structural properties and the uniqueness of solutions.\n",
        "In computer science, Sudoku is widely used as a test case for algorithms addressing constraint satisfaction problems, and KRR.\n",
        "Additionally, cognitive scientists study Sudoku to gain insights into human problem-solving behaviour, particularly in understanding how people approach and resolve complex logical challenges.\n",
        "\n"
      ]
    },
    {
      "cell_type": "markdown",
      "metadata": {
        "id": "8-v2Zsu7125c"
      },
      "source": [
        "__Section 3.1.1.__ Using Python, create the Mountain Car environment using Gymnasium, then start resetting the environment. Gymnasium needs swig and box2d packages, therefore, before creating the environment you should run the following:."
      ]
    },
    {
      "cell_type": "code",
      "execution_count": null,
      "metadata": {
        "colab": {
          "base_uri": "https://localhost:8080/"
        },
        "id": "-rHWaJoxw0ZO",
        "outputId": "afb7c74b-29ec-4887-aecc-8880fe8fdf14"
      },
      "outputs": [
        {
          "name": "stdout",
          "output_type": "stream",
          "text": [
            "Collecting swig\n",
            "  Downloading swig-4.2.1-py2.py3-none-manylinux_2_5_x86_64.manylinux1_x86_64.whl (1.9 MB)\n",
            "\u001b[2K     \u001b[90m━━━━━━━━━━━━━━━━━━━━━━━━━━━━━━━━━━━━━━━━\u001b[0m \u001b[32m1.9/1.9 MB\u001b[0m \u001b[31m7.9 MB/s\u001b[0m eta \u001b[36m0:00:00\u001b[0m\n",
            "\u001b[?25hInstalling collected packages: swig\n",
            "Successfully installed swig-4.2.1\n",
            "Collecting gymnasium[box2d]\n",
            "  Downloading gymnasium-0.29.1-py3-none-any.whl (953 kB)\n",
            "\u001b[2K     \u001b[90m━━━━━━━━━━━━━━━━━━━━━━━━━━━━━━━━━━━━━━━━\u001b[0m \u001b[32m953.9/953.9 kB\u001b[0m \u001b[31m8.0 MB/s\u001b[0m eta \u001b[36m0:00:00\u001b[0m\n",
            "\u001b[?25hRequirement already satisfied: numpy>=1.21.0 in /usr/local/lib/python3.10/dist-packages (from gymnasium[box2d]) (1.25.2)\n",
            "Requirement already satisfied: cloudpickle>=1.2.0 in /usr/local/lib/python3.10/dist-packages (from gymnasium[box2d]) (2.2.1)\n",
            "Requirement already satisfied: typing-extensions>=4.3.0 in /usr/local/lib/python3.10/dist-packages (from gymnasium[box2d]) (4.11.0)\n",
            "Collecting farama-notifications>=0.0.1 (from gymnasium[box2d])\n",
            "  Downloading Farama_Notifications-0.0.4-py3-none-any.whl (2.5 kB)\n",
            "Collecting box2d-py==2.3.5 (from gymnasium[box2d])\n",
            "  Downloading box2d-py-2.3.5.tar.gz (374 kB)\n",
            "\u001b[2K     \u001b[90m━━━━━━━━━━━━━━━━━━━━━━━━━━━━━━━━━━━━━━━━\u001b[0m \u001b[32m374.4/374.4 kB\u001b[0m \u001b[31m12.1 MB/s\u001b[0m eta \u001b[36m0:00:00\u001b[0m\n",
            "\u001b[?25h  Preparing metadata (setup.py) ... \u001b[?25l\u001b[?25hdone\n",
            "Requirement already satisfied: pygame>=2.1.3 in /usr/local/lib/python3.10/dist-packages (from gymnasium[box2d]) (2.5.2)\n",
            "Requirement already satisfied: swig==4.* in /usr/local/lib/python3.10/dist-packages (from gymnasium[box2d]) (4.2.1)\n",
            "Building wheels for collected packages: box2d-py\n",
            "  Building wheel for box2d-py (setup.py) ... \u001b[?25l\u001b[?25hdone\n",
            "  Created wheel for box2d-py: filename=box2d_py-2.3.5-cp310-cp310-linux_x86_64.whl size=2376134 sha256=536cbb1b29d016f25e91b4c9d9ca493f8b5183d99c38aa4e45891041de4b30b2\n",
            "  Stored in directory: /root/.cache/pip/wheels/db/8f/6a/eaaadf056fba10a98d986f6dce954e6201ba3126926fc5ad9e\n",
            "Successfully built box2d-py\n",
            "Installing collected packages: farama-notifications, box2d-py, gymnasium\n",
            "Successfully installed box2d-py-2.3.5 farama-notifications-0.0.4 gymnasium-0.29.1\n"
          ]
        }
      ],
      "source": [
        "!pip install swig\n",
        "!pip install gymnasium[box2d]"
      ]
    },
    {
      "cell_type": "code",
      "execution_count": null,
      "metadata": {
        "colab": {
          "base_uri": "https://localhost:8080/"
        },
        "id": "Yl9WExKkkd0Y",
        "outputId": "2c2fa4af-ba6e-4578-ab60-c9ec29be69a0"
      },
      "outputs": [
        {
          "name": "stdout",
          "output_type": "stream",
          "text": [
            "Starting Mountain Car environment\n"
          ]
        }
      ],
      "source": [
        "import gymnasium as gym\n",
        "env = gym.make(\"MountainCar-v0\")\n",
        "observation, info = env.reset()\n",
        "print(\"Starting Mountain Car environment\")"
      ]
    },
    {
      "cell_type": "markdown",
      "metadata": {
        "id": "OkLDdvrVlxdY"
      },
      "source": [
        "__Section 3.1.2.__ Create a loop with an adequate number of iterations to run the simulation."
      ]
    },
    {
      "cell_type": "markdown",
      "metadata": {
        "id": "0FEu6-KJmFxV"
      },
      "source": [
        "__Section 3.1.3.__ Select a random action and execute it in the environment. Observe how the car position varies over time."
      ]
    },
    {
      "cell_type": "code",
      "execution_count": null,
      "metadata": {
        "colab": {
          "base_uri": "https://localhost:8080/"
        },
        "id": "WiHdMrKk10t-",
        "outputId": "1a540847-8a87-47f6-c953-3fa53fcd881c"
      },
      "outputs": [
        {
          "name": "stdout",
          "output_type": "stream",
          "text": [
            "Finished in 199 steps\n"
          ]
        }
      ],
      "source": [
        "#Section 3.2\n",
        "for i in range(200):\n",
        "    #Section 3.3\n",
        "    action = env.action_space.sample()\n",
        "    observation, reward, terminated, truncated, info = env.step(action)\n",
        "    #print(observation) #if visual rendering not available\n",
        "\n",
        "    if terminated or truncated:\n",
        "        observation, info = env.reset()\n",
        "        break\n",
        "\n",
        "print(\"Finished in %i steps\"%i)\n",
        "env.close()"
      ]
    },
    {
      "cell_type": "markdown",
      "metadata": {
        "id": "mK9sEVj7oGfR"
      },
      "source": [
        "__Section 3.1.4.__ Instead of selecting a random action, select accelerating the car to the right at each time step."
      ]
    },
    {
      "cell_type": "code",
      "execution_count": null,
      "metadata": {
        "colab": {
          "base_uri": "https://localhost:8080/"
        },
        "id": "8O4mRjJLoY39",
        "outputId": "3679307f-f5dd-48e7-f11c-c3794c678977"
      },
      "outputs": [
        {
          "name": "stdout",
          "output_type": "stream",
          "text": [
            "Finished in 199 episodes\n"
          ]
        }
      ],
      "source": [
        "for i in range(200):\n",
        "    action = 2\n",
        "    observation, reward, terminated, truncated, info = env.step(action)\n",
        "    #print(observation) #if visual rendering not available\n",
        "\n",
        "    if terminated or truncated:\n",
        "        observation, info = env.reset()\n",
        "        break\n",
        "\n",
        "print(\"Finished in %i steps\"%i)\n",
        "env.close()"
      ]
    },
    {
      "cell_type": "markdown",
      "metadata": {
        "id": "F15lGkg0oxJ2"
      },
      "source": [
        "__Section 3.1.5__ As the car needs to build momentum, let's create two simple rules as follows:\n",
        "\n",
        "* Accelerate the car to the right if it is climbing the hill to the right while increasing the velocity.\n",
        "* Accelerate the car to the left if it is climbing the hill to the left while decreasing the velocity."
      ]
    },
    {
      "cell_type": "code",
      "execution_count": null,
      "metadata": {
        "colab": {
          "base_uri": "https://localhost:8080/"
        },
        "id": "wSAGbO30o-my",
        "outputId": "20c656bd-44ce-4671-c666-5c31e7758707"
      },
      "outputs": [
        {
          "name": "stdout",
          "output_type": "stream",
          "text": [
            "Finished in 160 episodes\n"
          ]
        }
      ],
      "source": [
        "for i in range(200):\n",
        "    if observation[0] > -0.53 and observation[1] > 0:\n",
        "      action = 2\n",
        "    elif observation[0] < -0.53 and observation[1] < 0:\n",
        "      action = 0\n",
        "    else:\n",
        "      action = 1 #or maybe a random action\n",
        "\n",
        "    observation, reward, terminated, truncated, info = env.step(action)\n",
        "    #print(observation) #if visual rendering not available\n",
        "\n",
        "    if terminated or truncated:\n",
        "        observation, info = env.reset()\n",
        "        break\n",
        "\n",
        "print(\"Finished in %i steps\"%i)\n",
        "env.close()"
      ]
    },
    {
      "cell_type": "markdown",
      "metadata": {
        "id": "E_RcoP0Qp7AT"
      },
      "source": [
        "__Section 3.1.6.__ Let's expand our knowledge base by adding two more rules, as follows:\n",
        "\n",
        "* Accelerate the car to the right if it is climbing the hill to the right while increasing the velocity.\n",
        "* Accelerate the car to the left if it is climbing the hill to the left while decreasing the velocity.\n",
        "* Accelerate the car to the right if it is descending the hill to the left while increasing the velocity.\n",
        "* Accelerate the car to the left if it is descending the hill to the right while decreasing the velocity."
      ]
    },
    {
      "cell_type": "code",
      "execution_count": null,
      "metadata": {
        "colab": {
          "base_uri": "https://localhost:8080/"
        },
        "id": "h-8V1fyasqy6",
        "outputId": "5fe8043d-a7f1-433c-801c-fbff08ae8b00"
      },
      "outputs": [
        {
          "name": "stdout",
          "output_type": "stream",
          "text": [
            "Finished in 85 episodes\n"
          ]
        }
      ],
      "source": [
        "for i in range(200):\n",
        "    if observation[0] > -0.53 and observation[1] > 0:\n",
        "      action = 2\n",
        "    elif observation[0] < -0.53 and observation[1] < 0:\n",
        "      action = 0\n",
        "    elif observation[0] < -0.53 and observation[1] > 0:\n",
        "      action = 2\n",
        "    elif observation[0] > -0.53 and observation[1] < 0:\n",
        "      action = 0\n",
        "    else:\n",
        "      action = 1 #or maybe a random action\n",
        "\n",
        "    observation, reward, terminated, truncated, info = env.step(action)\n",
        "    #print(observation) #if visual rendering not available\n",
        "\n",
        "    if terminated or truncated:\n",
        "        observation, info = env.reset()\n",
        "        break\n",
        "\n",
        "print(\"Finished in %i steps\"%i)\n",
        "env.close()"
      ]
    },
    {
      "cell_type": "markdown",
      "metadata": {
        "id": "MSdKz-IVtQ1C"
      },
      "source": [
        "__Section 3.1.7.__ For the previous setups, i.e., always accelerating to the right, two rules knowledge base, and four rules knowledge base, run the experiment 100 times and show the results using boxplots."
      ]
    },
    {
      "cell_type": "code",
      "execution_count": null,
      "metadata": {
        "id": "Cdmh6CVFxml3"
      },
      "outputs": [],
      "source": [
        "#See tutorial1a.py code in Moodle"
      ]
    },
    {
      "cell_type": "markdown",
      "metadata": {
        "id": "XU2xlS2cQ_ur"
      },
      "source": [
        "__Section 3.2.1__ Implement the Sudoku in Python considering as the initial state the figure shown to the left."
      ]
    },
    {
      "cell_type": "code",
      "execution_count": null,
      "metadata": {
        "colab": {
          "base_uri": "https://localhost:8080/"
        },
        "id": "6wmmqh_dSMxp",
        "outputId": "65e3163f-6ad1-4566-a9c0-0732f624fe88"
      },
      "outputs": [
        {
          "name": "stdout",
          "output_type": "stream",
          "text": [
            "Initial Sudoku Grid:\n",
            "[5 3 0 0 7 0 0 0 0]\n",
            "[6 0 0 1 9 5 0 0 0]\n",
            "[0 9 8 0 0 0 0 6 0]\n",
            "[8 0 0 0 6 0 0 0 3]\n",
            "[4 0 0 8 0 3 0 0 1]\n",
            "[7 0 0 0 2 0 0 0 6]\n",
            "[0 6 0 0 0 0 2 8 0]\n",
            "[0 0 0 4 1 9 0 0 5]\n",
            "[0 0 0 0 8 0 0 7 9]\n"
          ]
        }
      ],
      "source": [
        "import numpy as np\n",
        "\n",
        "# Define the Sudoku grid\n",
        "matrix = [\n",
        "    [5, 3, 0, 0, 7, 0, 0, 0, 0],\n",
        "    [6, 0, 0, 1, 9, 5, 0, 0, 0],\n",
        "    [0, 9, 8, 0, 0, 0, 0, 6, 0],\n",
        "    [8, 0, 0, 0, 6, 0, 0, 0, 3],\n",
        "    [4, 0, 0, 8, 0, 3, 0, 0, 1],\n",
        "    [7, 0, 0, 0, 2, 0, 0, 0, 6],\n",
        "    [0, 6, 0, 0, 0, 0, 2, 8, 0],\n",
        "    [0, 0, 0, 4, 1, 9, 0, 0, 5],\n",
        "    [0, 0, 0, 0, 8, 0, 0, 7, 9]\n",
        "]\n",
        "\n",
        "# Convert the matrix to a NumPy array\n",
        "grid = np.array(matrix)\n",
        "\n",
        "# Print the Sudoku grid\n",
        "def print_sudoku(grid):\n",
        "    for row in grid:\n",
        "        print(row)\n",
        "\n",
        "print(\"Initial Sudoku Grid:\")\n",
        "print_sudoku(grid)"
      ]
    },
    {
      "cell_type": "markdown",
      "metadata": {
        "id": "v4SRfPAQRePO"
      },
      "source": [
        "__Section 3.2.2__ Can you explain all the knowledge and constraints in Sudoku?\n"
      ]
    },
    {
      "cell_type": "markdown",
      "metadata": {
        "id": "0OKWMHOdSfX3"
      },
      "source": [
        "1. Each cell contains a number from 1 to 9.\n",
        "2. Each number appears exactly once in each row.\n",
        "3. Each number appears exactly once in each column.\n",
        "4. Each number appears exactly once in each 3x3 sub-grid."
      ]
    },
    {
      "cell_type": "markdown",
      "metadata": {
        "id": "yU-t8pN3RvY1"
      },
      "source": [
        "__Section 3.2.3__ Encode all conditions in Sudoku one by one.\n",
        "\n"
      ]
    },
    {
      "cell_type": "code",
      "execution_count": null,
      "metadata": {
        "colab": {
          "base_uri": "https://localhost:8080/"
        },
        "id": "VL-98aGGSi4U",
        "outputId": "9959fbd0-c9e6-4fb0-f85f-ebad6a13f6d5"
      },
      "outputs": [
        {
          "name": "stdout",
          "output_type": "stream",
          "text": [
            "Sudoku structure is valid\n"
          ]
        }
      ],
      "source": [
        "# 1. Ensure each number appears exactly once in each row, ignoring zeros.\n",
        "def row_constraint(grid, row):\n",
        "    row_values = grid[row, :]\n",
        "    return len(set(row_values) - {0}) == len(row_values) - list(row_values).count(0)\n",
        "\n",
        "# 2. Ensure each number appears exactly once in each column, ignoring zeros.\n",
        "def column_constraint(grid, col):\n",
        "    col_values = grid[:, col]\n",
        "    return len(set(col_values) - {0}) == len(col_values) - list(col_values).count(0)\n",
        "\n",
        "# 3. Ensure each number appears exactly once in each 3x3 sub-grid, ignoring zeros.\n",
        "def subgrid_constraint(grid, row, col):\n",
        "    subgrid = grid[row//3*3:row//3*3+3, col//3*3:col//3*3+3]\n",
        "    subgrid_values = subgrid.flatten()\n",
        "    return len(set(subgrid_values) - {0}) == len(subgrid_values) - list(subgrid_values).count(0)\n",
        "\n",
        "# Combine all constraints\n",
        "def is_valid_sudoku(grid):\n",
        "    for i in range(9):\n",
        "        if not row_constraint(grid, i):\n",
        "            return 'Sudoku structure is not valid'\n",
        "        if not column_constraint(grid, i):\n",
        "            return 'Sudoku structure is not valid'\n",
        "        for j in range(0, 9, 3):\n",
        "            if not subgrid_constraint(grid, i, j):\n",
        "                return 'Sudoku structure is not valid'\n",
        "    return 'Sudoku structure is valid'\n",
        "\n",
        "# Check the validity of the Sudoku grid\n",
        "print(is_valid_sudoku(grid))\n"
      ]
    },
    {
      "cell_type": "markdown",
      "metadata": {
        "id": "lABWIYLtR1n0"
      },
      "source": [
        "__Section 3.2.4__ Can you indicate whether each condition in Sudoku is deductive, inductive, or abductive?\n",
        "\n"
      ]
    },
    {
      "cell_type": "markdown",
      "metadata": {
        "id": "rDsmskR7SxWi"
      },
      "source": [
        "  __Answer:__ all of them are deductive reasoning."
      ]
    },
    {
      "cell_type": "markdown",
      "metadata": {
        "id": "_q6sWTdcR6kT"
      },
      "source": [
        "__Section 3.2.5__ Develop an algorithm that can solve Sudoku based on KRR.\n"
      ]
    },
    {
      "cell_type": "code",
      "execution_count": null,
      "metadata": {
        "id": "SJHTdOVkS4ov"
      },
      "outputs": [],
      "source": [
        "# Check if a move is valid\n",
        "def is_valid_move(grid, row, col, num):\n",
        "    grid[row, col] = num\n",
        "    valid = (row_constraint(grid, row) and\n",
        "             column_constraint(grid, col) and\n",
        "             subgrid_constraint(grid, row, col))\n",
        "    grid[row, col] = 0  # Reset cell after checking\n",
        "    return valid\n",
        "\n",
        "# Find an empty location in the grid\n",
        "def find_empty_location(grid):\n",
        "    for row in range(9):\n",
        "        for col in range(9):\n",
        "            if grid[row, col] == 0:\n",
        "                return (row, col)\n",
        "    return None\n",
        "\n",
        "# Solve the Sudoku puzzle using backtracking\n",
        "def solve_sudoku(grid):\n",
        "    empty_loc = find_empty_location(grid)\n",
        "    if not empty_loc:\n",
        "        return True  # Puzzle solved\n",
        "\n",
        "    row, col = empty_loc\n",
        "    for num in range(1, 10):\n",
        "        if is_valid_move(grid, row, col, num):\n",
        "            grid[row, col] = num\n",
        "            if solve_sudoku(grid):\n",
        "                return True\n",
        "            grid[row, col] = 0  # Reset cell and backtrack\n",
        "\n",
        "    return False"
      ]
    },
    {
      "cell_type": "markdown",
      "metadata": {
        "id": "C3aqu0NiR_Am"
      },
      "source": [
        "__Section 3.2.6__ Print the final solved puzzle.\n"
      ]
    },
    {
      "cell_type": "code",
      "execution_count": null,
      "metadata": {
        "colab": {
          "base_uri": "https://localhost:8080/"
        },
        "id": "TMEnvNV3TGxP",
        "outputId": "35cb4f3c-c7ef-47e8-e040-dfaaa07ce2dd"
      },
      "outputs": [
        {
          "name": "stdout",
          "output_type": "stream",
          "text": [
            "\n",
            "Solved Sudoku:\n",
            "[5 3 4 6 7 8 9 1 2]\n",
            "[6 7 2 1 9 5 3 4 8]\n",
            "[1 9 8 3 4 2 5 6 7]\n",
            "[8 5 9 7 6 1 4 2 3]\n",
            "[4 2 6 8 5 3 7 9 1]\n",
            "[7 1 3 9 2 4 8 5 6]\n",
            "[9 6 1 5 3 7 2 8 4]\n",
            "[2 8 7 4 1 9 6 3 5]\n",
            "[3 4 5 2 8 6 1 7 9]\n"
          ]
        }
      ],
      "source": [
        "if solve_sudoku(grid):\n",
        "    print(\"\\nSolved Sudoku:\")\n",
        "    print_sudoku(grid)\n",
        "else:\n",
        "    print(\"No solution exists\")"
      ]
    },
    {
      "cell_type": "markdown",
      "metadata": {
        "id": "SFDpJnw-SDdr"
      },
      "source": [
        "__Section 3.2.7__ Under what conditions there is no solution for the problem?\n"
      ]
    },
    {
      "cell_type": "markdown",
      "metadata": {
        "id": "DIbj3FCmTOy8"
      },
      "source": [
        "1. Insufficient Clues: If the puzzle has too few clues (initially filled cells), it might not be possible to find a unique solution or any solution at all. A Sudoku puzzle typically requires a minimum number of clues to ensure a unique solution.\n",
        "\n",
        "2. Impossible Configuration: Some puzzles are designed with configurations that are inherently unsolvable due to the constraints they impose, even though they might not immediately appear to be invalid. These puzzles might not be solvable using standard solving techniques."
      ]
    },
    {
      "cell_type": "markdown",
      "metadata": {
        "id": "7bIhWz7CSH7o"
      },
      "source": [
        "__Section 3.2.8__ Can you come up with a Sudoku configuration that is impossible to be solved?\n"
      ]
    },
    {
      "cell_type": "code",
      "execution_count": null,
      "metadata": {
        "colab": {
          "background_save": true,
          "base_uri": "https://localhost:8080/"
        },
        "id": "eWQSno5wTaEn",
        "outputId": "67fb2d7c-2583-4d4f-ed95-3c645b6787f3"
      },
      "outputs": [
        {
          "name": "stdout",
          "output_type": "stream",
          "text": [
            "Initial Sudoku Grid:\n",
            "[2 0 0 9 0 0 0 0 0]\n",
            "[0 0 0 0 0 0 0 6 0]\n",
            "[0 0 0 0 0 1 0 0 0]\n",
            "[5 0 2 6 0 0 4 0 7]\n",
            "[0 0 0 8 0 4 1 0 0]\n",
            "[0 0 0 0 9 8 0 2 3]\n",
            "[0 0 0 0 0 3 0 8 0]\n",
            "[0 0 5 0 1 0 0 0 0]\n",
            "[0 0 7 0 0 0 0 0 0]\n",
            "No solution exists\n"
          ]
        }
      ],
      "source": [
        "# Too long run-time in my system to find the solution.\n",
        "\n",
        "impossible_configuration= unsolvable_matrix = [\n",
        "    [2, 0, 0, 9, 0, 0, 0, 0, 0],\n",
        "    [0, 0, 0, 0, 0, 0, 0, 6, 0],\n",
        "    [0, 0, 0, 0, 0, 1, 0, 0, 0],\n",
        "    [5, 0, 2, 6, 0, 0, 4, 0, 7],\n",
        "    [0, 0, 0, 8, 0, 4, 1, 0, 0],\n",
        "    [0, 0, 0, 0, 9, 8, 0, 2, 3],\n",
        "    [0, 0, 0, 0, 0, 3, 0, 8, 0],\n",
        "    [0, 0, 5, 0, 1, 0, 0, 0, 0],\n",
        "    [0, 0, 7, 0, 0, 0, 0, 0, 0]\n",
        "]\n",
        "\n",
        "grid = np.array(impossible_configuration)\n",
        "\n",
        "# Print the Sudoku grid\n",
        "def print_sudoku(grid):\n",
        "    for row in grid:\n",
        "        print(row)\n",
        "\n",
        "print(\"Initial Sudoku Grid:\")\n",
        "print_sudoku(grid)\n",
        "\n",
        "if solve_sudoku(grid):\n",
        "    print(\"\\nSolved Sudoku:\")\n",
        "    print_sudoku(grid)\n",
        "else:\n",
        "    print(\"No solution exists\")"
      ]
    }
  ],
  "metadata": {
    "colab": {
      "provenance": []
    },
    "kernelspec": {
      "display_name": "Python 3",
      "name": "python3"
    },
    "language_info": {
      "name": "python"
    }
  },
  "nbformat": 4,
  "nbformat_minor": 0
}