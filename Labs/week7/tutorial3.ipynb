{
 "cells": [
  {
   "cell_type": "code",
   "execution_count": 1,
   "metadata": {},
   "outputs": [
    {
     "name": "stdout",
     "output_type": "stream",
     "text": [
      "frames per second = 25.0\n",
      "total number of frames = 3646\n",
      "duration of the video (in sec) = 145.84\n"
     ]
    }
   ],
   "source": [
    "# -*- coding: utf-8 -*-\n",
    "\"\"\"\n",
    "Created on Sun Jun 11 13:51:04 2023\n",
    "\n",
    "@author: MaryamHashemi\n",
    "\"\"\"\n",
    "############################### 4.1 Exercise #####################################\n",
    "\n",
    "############################ 4.1.1 ####################################\n",
    "import cv2\n",
    "\n",
    "#captures all the frames\n",
    "video = cv2.VideoCapture('tom_and_jerry.mp4')\n",
    "\n",
    "#Check if video opened successfully\n",
    "if (video.isOpened()== False): \n",
    "    print(\"Error opening video stream or file\")\n",
    " \n",
    " \n",
    " \n",
    "#fram/sec in video and duration of it\n",
    "fps = video.get(cv2.CAP_PROP_FPS)\n",
    "print('frames per second =',fps)\n",
    "\n",
    "#total number of frames\n",
    "length = int(video.get(cv2.CAP_PROP_FRAME_COUNT))\n",
    "print('total number of frames =',length)\n",
    "print('duration of the video (in sec) =',length/fps)\n",
    "\n",
    "video.set(cv2.CAP_PROP_POS_FRAMES, 102)\n",
    "ret, frame = video.read()\n",
    "cv2.imshow('Frame 1002', frame)\n",
    "\n",
    "cv2.waitKey(0)\n",
    "cv2.destroyAllWindows()\n",
    "\n",
    "\n",
    "############################ 4.1.2 ####################################\n",
    "\n",
    "# Read until video is completed\n",
    "while(video.isOpened()):\n",
    "  # Capture frame-by-frame\n",
    "  ret, frame = video.read()\n",
    "  if ret == True:\n",
    "    # Display the resulting frame\n",
    "    cv2.imshow('Original video',frame)\n",
    "   \n",
    "    # framegray=cv2.cvtColor(frame,cv2.COLOR_BGR2GRAY)\n",
    "    #100 and 200 are lower and upper threshold\n",
    "    framegray=cv2.Canny(frame,100,200)\n",
    "    \n",
    "    cv2.imshow('Filtered video',framegray)\n",
    "\n",
    "    if cv2.waitKey(1) == 27:         # wait for ESC key to exit, 27 is the escape key number\n",
    "      break\n",
    " \n",
    "  # Break the loop\n",
    "  else: \n",
    "    break\n",
    " \n",
    "# When everything done, release the video capture object\n",
    "video.release()\n",
    " \n",
    "# Closes all the frames\n",
    "cv2.destroyAllWindows()\n",
    "\n"
   ]
  }
 ],
 "metadata": {
  "kernelspec": {
   "display_name": "Python 3",
   "language": "python",
   "name": "python3"
  },
  "language_info": {
   "codemirror_mode": {
    "name": "ipython",
    "version": 3
   },
   "file_extension": ".py",
   "mimetype": "text/x-python",
   "name": "python",
   "nbconvert_exporter": "python",
   "pygments_lexer": "ipython3",
   "version": "3.13.5"
  }
 },
 "nbformat": 4,
 "nbformat_minor": 2
}
